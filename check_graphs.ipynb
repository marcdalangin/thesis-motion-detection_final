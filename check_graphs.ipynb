{
 "cells": [
  {
   "cell_type": "code",
   "execution_count": 12,
   "metadata": {},
   "outputs": [],
   "source": [
    "import neptune\n",
    "from keras.models import load_model\n",
    "from tensorflow.keras.callbacks import TensorBoard\n",
    "from edensenet import x_train, y_train\n",
    "from IPython.display import Image\n"
   ]
  },
  {
   "cell_type": "code",
   "execution_count": 20,
   "metadata": {},
   "outputs": [
    {
     "ename": "AttributeError",
     "evalue": "module 'neptune' has no attribute 'init'",
     "output_type": "error",
     "traceback": [
      "\u001b[1;31m---------------------------------------------------------------------------\u001b[0m",
      "\u001b[1;31mAttributeError\u001b[0m                            Traceback (most recent call last)",
      "Cell \u001b[1;32mIn[20], line 4\u001b[0m\n\u001b[0;32m      1\u001b[0m \u001b[39m# Load the .h5 model\u001b[39;00m\n\u001b[0;32m      2\u001b[0m model \u001b[39m=\u001b[39m load_model(\u001b[39m'\u001b[39m\u001b[39medensenet.h5\u001b[39m\u001b[39m'\u001b[39m)\n\u001b[1;32m----> 4\u001b[0m neptune\u001b[39m.\u001b[39;49minit(project_qualified_name\u001b[39m=\u001b[39m\u001b[39m'\u001b[39m\u001b[39mmarcdalangin0819/thesis-motion-detection\u001b[39m\u001b[39m'\u001b[39m, api_token\u001b[39m=\u001b[39m\u001b[39m'\u001b[39m\u001b[39meyJhcGlfYWRkcmVzcyI6Imh0dHBzOi8vYXBwLm5lcHR1bmUuYWkiLCJhcGlfdXJsIjoiaHR0cHM6Ly9hcHAubmVwdHVuZS5haSIsImFwaV9rZXkiOiI2MDhlN2RjNy1lMzE0LTQxYWMtYWY2My0yNmY5ZDhmNDA5OGEifQ==\u001b[39m\u001b[39m'\u001b[39m)\n\u001b[0;32m      6\u001b[0m \u001b[39m# Create a Neptune experiment\u001b[39;00m\n\u001b[0;32m      7\u001b[0m \u001b[39mwith\u001b[39;00m neptune\u001b[39m.\u001b[39mcreate_experiment(name\u001b[39m=\u001b[39m\u001b[39m'\u001b[39m\u001b[39mModel Upload\u001b[39m\u001b[39m'\u001b[39m):\n\u001b[0;32m      8\u001b[0m     \u001b[39m# Train the model\u001b[39;00m\n",
      "\u001b[1;31mAttributeError\u001b[0m: module 'neptune' has no attribute 'init'"
     ]
    }
   ],
   "source": [
    "# Load the .h5 model\n",
    "model = load_model('edensenet.h5')\n",
    "\n",
    "neptune.init(project_qualified_name='marcdalangin0819/thesis-motion-detection', api_token='eyJhcGlfYWRkcmVzcyI6Imh0dHBzOi8vYXBwLm5lcHR1bmUuYWkiLCJhcGlfdXJsIjoiaHR0cHM6Ly9hcHAubmVwdHVuZS5haSIsImFwaV9rZXkiOiI2MDhlN2RjNy1lMzE0LTQxYWMtYWY2My0yNmY5ZDhmNDA5OGEifQ==')\n",
    "\n",
    "# Create a Neptune experiment\n",
    "with neptune.create_experiment(name='Model Upload'):\n",
    "    # Train the model\n",
    "    model.fit(x_train, y_train)\n",
    "\n",
    "    # Log the model to Neptune AI\n",
    "    model.save('model.h5')\n",
    "    neptune.log_artifact('model.h5')\n",
    "\n",
    "# Close the Neptune experiment\n",
    "neptune.stop()"
   ]
  },
  {
   "attachments": {},
   "cell_type": "markdown",
   "metadata": {},
   "source": []
  }
 ],
 "metadata": {
  "kernelspec": {
   "display_name": "Python 3",
   "language": "python",
   "name": "python3"
  },
  "language_info": {
   "codemirror_mode": {
    "name": "ipython",
    "version": 3
   },
   "file_extension": ".py",
   "mimetype": "text/x-python",
   "name": "python",
   "nbconvert_exporter": "python",
   "pygments_lexer": "ipython3",
   "version": "3.10.11"
  },
  "orig_nbformat": 4
 },
 "nbformat": 4,
 "nbformat_minor": 2
}
