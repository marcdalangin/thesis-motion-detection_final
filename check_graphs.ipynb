{
 "cells": [
  {
   "cell_type": "code",
   "execution_count": 12,
   "metadata": {},
   "outputs": [],
   "source": [
    "import neptune\n",
    "from keras.models import load_model\n",
    "from tensorflow.keras.callbacks import TensorBoard\n",
    "from edensenet import x_train, y_train\n"
   ]
  },
  {
   "cell_type": "code",
   "execution_count": 19,
   "metadata": {},
   "outputs": [
    {
     "ename": "NeptunePossibleLegacyUsageException",
     "evalue": "\n\n----NeptunePossibleLegacyUsageException----------------------------------------------------------------\n\nIt seems you are trying to use the legacy API, but you imported the new one.\n\nSimply update your import statement to:\n    import neptune\n\nYou may want to check the legacy API docs:\n    - https://docs-legacy.neptune.ai\n\nIf you want to update your code with the new API, we prepared a handy migration guide:\n    - https://docs.neptune.ai/about/legacy/#migrating-to-neptunenew\n\nYou can read more about neptune.new in the release blog post:\n    - https://neptune.ai/blog/neptune-new\n\nYou may also want to check the following docs page:\n    - https://docs-legacy.neptune.ai/getting-started/integrate-neptune-into-your-codebase.html\n\nNeed help?-> https://docs.neptune.ai/getting_help\n",
     "output_type": "error",
     "traceback": [
      "\u001b[1;31m---------------------------------------------------------------------------\u001b[0m",
      "\u001b[1;31mNeptunePossibleLegacyUsageException\u001b[0m       Traceback (most recent call last)",
      "Cell \u001b[1;32mIn[19], line 4\u001b[0m\n\u001b[0;32m      1\u001b[0m \u001b[39m# Load the .h5 model\u001b[39;00m\n\u001b[0;32m      2\u001b[0m model \u001b[39m=\u001b[39m load_model(\u001b[39m'\u001b[39m\u001b[39medensenet.h5\u001b[39m\u001b[39m'\u001b[39m)\n\u001b[1;32m----> 4\u001b[0m neptune\u001b[39m.\u001b[39;49minit_run(project_qualified_name\u001b[39m=\u001b[39;49m\u001b[39m'\u001b[39;49m\u001b[39mmarcdalangin0819/thesis-motion-detection\u001b[39;49m\u001b[39m'\u001b[39;49m, api_token\u001b[39m=\u001b[39;49m\u001b[39m'\u001b[39;49m\u001b[39meyJhcGlfYWRkcmVzcyI6Imh0dHBzOi8vYXBwLm5lcHR1bmUuYWkiLCJhcGlfdXJsIjoiaHR0cHM6Ly9hcHAubmVwdHVuZS5haSIsImFwaV9rZXkiOiI2MDhlN2RjNy1lMzE0LTQxYWMtYWY2My0yNmY5ZDhmNDA5OGEifQ==\u001b[39;49m\u001b[39m'\u001b[39;49m)\n\u001b[0;32m      6\u001b[0m \u001b[39m# Create a Neptune experiment\u001b[39;00m\n\u001b[0;32m      7\u001b[0m \u001b[39mwith\u001b[39;00m neptune\u001b[39m.\u001b[39mcreate_experiment(name\u001b[39m=\u001b[39m\u001b[39m'\u001b[39m\u001b[39mModel Upload\u001b[39m\u001b[39m'\u001b[39m):\n\u001b[0;32m      8\u001b[0m     \u001b[39m# Train the model\u001b[39;00m\n",
      "File \u001b[1;32m~\\AppData\\Local\\Packages\\PythonSoftwareFoundation.Python.3.10_qbz5n2kfra8p0\\LocalCache\\local-packages\\Python310\\site-packages\\neptune\\metadata_containers\\run.py:295\u001b[0m, in \u001b[0;36mRun.__init__\u001b[1;34m(self, with_id, project, api_token, custom_run_id, mode, name, description, tags, source_files, capture_stdout, capture_stderr, capture_hardware_metrics, fail_on_exception, monitoring_namespace, flush_period, proxies, capture_traceback, git_ref, **kwargs)\u001b[0m\n\u001b[0;32m    121\u001b[0m \u001b[39mdef\u001b[39;00m \u001b[39m__init__\u001b[39m(\n\u001b[0;32m    122\u001b[0m     \u001b[39mself\u001b[39m,\n\u001b[0;32m    123\u001b[0m     with_id: Optional[\u001b[39mstr\u001b[39m] \u001b[39m=\u001b[39m \u001b[39mNone\u001b[39;00m,\n\u001b[1;32m   (...)\u001b[0m\n\u001b[0;32m    142\u001b[0m     \u001b[39m*\u001b[39m\u001b[39m*\u001b[39mkwargs,\n\u001b[0;32m    143\u001b[0m ):\n\u001b[0;32m    144\u001b[0m \u001b[39m    \u001b[39m\u001b[39m\"\"\"Starts a new tracked run that logs ML model-building metadata to neptune.ai.\u001b[39;00m\n\u001b[0;32m    145\u001b[0m \n\u001b[0;32m    146\u001b[0m \u001b[39m    You can log metadata by assigning it to the initialized Run object:\u001b[39;00m\n\u001b[1;32m   (...)\u001b[0m\n\u001b[0;32m    293\u001b[0m \u001b[39m            https://docs.neptune.ai/logging/from_multiple_places/\u001b[39;00m\n\u001b[0;32m    294\u001b[0m \u001b[39m    \"\"\"\u001b[39;00m\n\u001b[1;32m--> 295\u001b[0m     check_for_extra_kwargs(\u001b[39m\"\u001b[39;49m\u001b[39mRun\u001b[39;49m\u001b[39m\"\u001b[39;49m, kwargs)\n\u001b[0;32m    297\u001b[0m     verify_type(\u001b[39m\"\u001b[39m\u001b[39mwith_id\u001b[39m\u001b[39m\"\u001b[39m, with_id, (\u001b[39mstr\u001b[39m, \u001b[39mtype\u001b[39m(\u001b[39mNone\u001b[39;00m)))\n\u001b[0;32m    298\u001b[0m     verify_type(\u001b[39m\"\u001b[39m\u001b[39mproject\u001b[39m\u001b[39m\"\u001b[39m, project, (\u001b[39mstr\u001b[39m, \u001b[39mtype\u001b[39m(\u001b[39mNone\u001b[39;00m)))\n",
      "File \u001b[1;32m~\\AppData\\Local\\Packages\\PythonSoftwareFoundation.Python.3.10_qbz5n2kfra8p0\\LocalCache\\local-packages\\Python310\\site-packages\\neptune\\metadata_containers\\run.py:494\u001b[0m, in \u001b[0;36mcheck_for_extra_kwargs\u001b[1;34m(caller_name, kwargs)\u001b[0m\n\u001b[0;32m    492\u001b[0m \u001b[39mfor\u001b[39;00m name \u001b[39min\u001b[39;00m legacy_kwargs:\n\u001b[0;32m    493\u001b[0m     \u001b[39mif\u001b[39;00m name \u001b[39min\u001b[39;00m kwargs:\n\u001b[1;32m--> 494\u001b[0m         \u001b[39mraise\u001b[39;00m NeptunePossibleLegacyUsageException()\n\u001b[0;32m    496\u001b[0m \u001b[39mif\u001b[39;00m kwargs:\n\u001b[0;32m    497\u001b[0m     first_key \u001b[39m=\u001b[39m \u001b[39mnext\u001b[39m(\u001b[39miter\u001b[39m(kwargs\u001b[39m.\u001b[39mkeys()))\n",
      "\u001b[1;31mNeptunePossibleLegacyUsageException\u001b[0m: \n\n----NeptunePossibleLegacyUsageException----------------------------------------------------------------\n\nIt seems you are trying to use the legacy API, but you imported the new one.\n\nSimply update your import statement to:\n    import neptune\n\nYou may want to check the legacy API docs:\n    - https://docs-legacy.neptune.ai\n\nIf you want to update your code with the new API, we prepared a handy migration guide:\n    - https://docs.neptune.ai/about/legacy/#migrating-to-neptunenew\n\nYou can read more about neptune.new in the release blog post:\n    - https://neptune.ai/blog/neptune-new\n\nYou may also want to check the following docs page:\n    - https://docs-legacy.neptune.ai/getting-started/integrate-neptune-into-your-codebase.html\n\nNeed help?-> https://docs.neptune.ai/getting_help\n"
     ]
    }
   ],
   "source": [
    "# Load the .h5 model\n",
    "model = load_model('edensenet.h5')\n",
    "\n",
    "neptune.init(project_qualified_name='marcdalangin0819/thesis-motion-detection', api_token='eyJhcGlfYWRkcmVzcyI6Imh0dHBzOi8vYXBwLm5lcHR1bmUuYWkiLCJhcGlfdXJsIjoiaHR0cHM6Ly9hcHAubmVwdHVuZS5haSIsImFwaV9rZXkiOiI2MDhlN2RjNy1lMzE0LTQxYWMtYWY2My0yNmY5ZDhmNDA5OGEifQ==')\n",
    "\n",
    "# Create a Neptune experiment\n",
    "with neptune.create_experiment(name='Model Upload'):\n",
    "    # Train the model\n",
    "    model.fit(x_train, y_train)\n",
    "\n",
    "    # Log the model to Neptune AI\n",
    "    model.save('model.h5')\n",
    "    neptune.log_artifact('model.h5')\n",
    "\n",
    "# Close the Neptune experiment\n",
    "neptune.stop()"
   ]
  },
  {
   "attachments": {},
   "cell_type": "markdown",
   "metadata": {},
   "source": []
  }
 ],
 "metadata": {
  "kernelspec": {
   "display_name": "Python 3",
   "language": "python",
   "name": "python3"
  },
  "language_info": {
   "codemirror_mode": {
    "name": "ipython",
    "version": 3
   },
   "file_extension": ".py",
   "mimetype": "text/x-python",
   "name": "python",
   "nbconvert_exporter": "python",
   "pygments_lexer": "ipython3",
   "version": "3.10.11"
  },
  "orig_nbformat": 4
 },
 "nbformat": 4,
 "nbformat_minor": 2
}
